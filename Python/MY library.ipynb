{
 "cells": [
  {
   "cell_type": "markdown",
   "id": "fa841f87",
   "metadata": {},
   "source": [
    "## Integration"
   ]
  },
  {
   "cell_type": "code",
   "execution_count": 25,
   "id": "2f4cdb1a",
   "metadata": {},
   "outputs": [
    {
     "name": "stdout",
     "output_type": "stream",
     "text": [
      "Enter a lower limit:1\n",
      "Enter a higher limit:2\n"
     ]
    },
    {
     "data": {
      "text/plain": [
       "-2"
      ]
     },
     "execution_count": 25,
     "metadata": {},
     "output_type": "execute_result"
    }
   ],
   "source": [
    "#x=input(\"Write a function that you need to find the integration\")\n",
    "a=int(input(\"Enter a lower limit:\"))\n",
    "b=int(input(\"Enter a higher limit:\"))\n",
    "y=2*x\n",
    "v=2*int(a-b)\n",
    "v"
   ]
  },
  {
   "cell_type": "markdown",
   "id": "fb35f5ca",
   "metadata": {},
   "source": [
    "## Add, Sub,Multiply,Division"
   ]
  },
  {
   "cell_type": "code",
   "execution_count": 2,
   "id": "a0cc94de",
   "metadata": {},
   "outputs": [
    {
     "data": {
      "text/plain": [
       "0.6666666666666666"
      ]
     },
     "execution_count": 2,
     "metadata": {},
     "output_type": "execute_result"
    }
   ],
   "source": [
    "def add(a,b):\n",
    "    return a+b\n",
    "def sub(a,b):\n",
    "    return a-b\n",
    "def mul(a,b):\n",
    "    return a*b\n",
    "def div(a,b):\n",
    "    return a/b\n",
    "div(2,3)"
   ]
  },
  {
   "cell_type": "markdown",
   "id": "4e569910",
   "metadata": {},
   "source": [
    "## to find nth power-square ,cube,4th root,......"
   ]
  },
  {
   "cell_type": "code",
   "execution_count": 26,
   "id": "46e2cd46",
   "metadata": {},
   "outputs": [
    {
     "data": {
      "text/plain": [
       "64"
      ]
     },
     "execution_count": 26,
     "metadata": {},
     "output_type": "execute_result"
    }
   ],
   "source": [
    "#x=base value\n",
    "#n=exponent value\n",
    "def n_power(x,n):\n",
    "    return x**n\n",
    "n_power(4,3)"
   ]
  },
  {
   "cell_type": "markdown",
   "id": "009d69b6",
   "metadata": {},
   "source": [
    "## to find n number of multiple"
   ]
  },
  {
   "cell_type": "code",
   "execution_count": 27,
   "id": "dda55f19",
   "metadata": {},
   "outputs": [
    {
     "data": {
      "text/plain": [
       "24"
      ]
     },
     "execution_count": 27,
     "metadata": {},
     "output_type": "execute_result"
    }
   ],
   "source": [
    "def n_multiply(a,*b):\n",
    "    c=1\n",
    "    for i in b:\n",
    "       c*=i\n",
    "    return c*a\n",
    "n_multiply(2,2,3,2)"
   ]
  },
  {
   "cell_type": "markdown",
   "id": "deba04a4",
   "metadata": {},
   "source": [
    "## to find n number to add"
   ]
  },
  {
   "cell_type": "code",
   "execution_count": 4,
   "id": "25e09fb4",
   "metadata": {},
   "outputs": [
    {
     "data": {
      "text/plain": [
       "9"
      ]
     },
     "execution_count": 4,
     "metadata": {},
     "output_type": "execute_result"
    }
   ],
   "source": [
    "def n_add(a,*b):\n",
    "    c=0\n",
    "    for i in b:\n",
    "       c+=i\n",
    "    return c+a\n",
    "n_add(2,2,3,2)"
   ]
  },
  {
   "cell_type": "markdown",
   "id": "732974d5",
   "metadata": {},
   "source": [
    "## to find n number to sub"
   ]
  },
  {
   "cell_type": "code",
   "execution_count": 13,
   "id": "6cbc2238",
   "metadata": {},
   "outputs": [
    {
     "data": {
      "text/plain": [
       "7"
      ]
     },
     "execution_count": 13,
     "metadata": {},
     "output_type": "execute_result"
    }
   ],
   "source": [
    "def n_sub(a,*b):\n",
    "    c=0\n",
    "    for i in b:\n",
    "       c+=i\n",
    "    return c+a\n",
    "n_sub(-2,-2,1,10)"
   ]
  },
  {
   "cell_type": "markdown",
   "id": "b5d1be19",
   "metadata": {},
   "source": [
    "## To find square root "
   ]
  },
  {
   "cell_type": "code",
   "execution_count": 20,
   "id": "06529a2b",
   "metadata": {},
   "outputs": [
    {
     "name": "stdout",
     "output_type": "stream",
     "text": [
      "Enter a number to find the square root of it:4\n",
      "The square root of 4 is 2.0\n"
     ]
    }
   ],
   "source": [
    "#The perfect square root -with round off the decimal\n",
    "num = int(input(\"Enter a number to find the square root of it:\"))\n",
    "def sqrt(num):\n",
    "    num_sqrt = num ** 0.5\n",
    "    print('The square root of',num,'is',round(num_sqrt))\n",
    "sqrt(num)    "
   ]
  },
  {
   "cell_type": "markdown",
   "id": "75f056f0",
   "metadata": {},
   "source": [
    "## To find cube root "
   ]
  },
  {
   "cell_type": "code",
   "execution_count": 25,
   "id": "e910e793",
   "metadata": {},
   "outputs": [
    {
     "name": "stdout",
     "output_type": "stream",
     "text": [
      "Enter a number to find the square root of it:8\n",
      "The square root of 8 is 2\n"
     ]
    }
   ],
   "source": [
    "#The perfect cube root -with round off the decimal\n",
    "num = int(input(\"Enter a number to find the square root of it:\"))\n",
    "def cube_root(num):\n",
    "    num_sqrt = num ** 0.33333333\n",
    "    print('The square root of',num,'is',round(num_sqrt))\n",
    "cube_root(num) "
   ]
  },
  {
   "cell_type": "markdown",
   "id": "698092ae",
   "metadata": {},
   "source": [
    "## To find nth root "
   ]
  },
  {
   "cell_type": "code",
   "execution_count": 28,
   "id": "ee9d6138",
   "metadata": {},
   "outputs": [
    {
     "name": "stdout",
     "output_type": "stream",
     "text": [
      "Enter a number to find the square root of it:121\n",
      "Enter a number of find nth root of it:11\n",
      "The square root of 121 is 2\n"
     ]
    }
   ],
   "source": [
    "num = int(input(\"Enter a number to find the square root of it:\"))\n",
    "a=int(input(\"Enter a number of find nth root of it:\"))#Whats the root that you need to find it\n",
    "def nth_root(num,a):\n",
    "    num_sqrt = num ** (1/a)\n",
    "    print('The square root of',num,'is',round(num_sqrt))\n",
    "nth_root(num,a) "
   ]
  },
  {
   "cell_type": "markdown",
   "id": "4025290d",
   "metadata": {},
   "source": [
    "## decimal to binary"
   ]
  },
  {
   "cell_type": "code",
   "execution_count": 4,
   "id": "2d9a03fd",
   "metadata": {},
   "outputs": [
    {
     "name": "stdout",
     "output_type": "stream",
     "text": [
      "011000"
     ]
    }
   ],
   "source": [
    "def DecimalToBinary(num):\n",
    "     if num >= 1:\n",
    "        DecimalToBinary(num // 2)\n",
    "    print(num % 2, end = '')\n",
    "DecimalToBinary(24)"
   ]
  },
  {
   "cell_type": "markdown",
   "id": "d6fe9ef3",
   "metadata": {},
   "source": [
    "## Binary to decimal "
   ]
  },
  {
   "cell_type": "code",
   "execution_count": 8,
   "id": "72530efd",
   "metadata": {},
   "outputs": [
    {
     "name": "stdout",
     "output_type": "stream",
     "text": [
      "Input a binary number: 011000\n",
      "The decimal value of the number is 24\n"
     ]
    }
   ],
   "source": [
    "num = list(input(\"Input a binary number: \"))\n",
    "value = 0\n",
    "\n",
    "for i in range(len(num)):\n",
    "    digit = num.pop()\n",
    "    if digit == '1':\n",
    "        value = value + pow(2, i)\n",
    "print(\"The decimal value of the number is\", value)"
   ]
  },
  {
   "cell_type": "code",
   "execution_count": null,
   "id": "96b80932",
   "metadata": {},
   "outputs": [],
   "source": []
  }
 ],
 "metadata": {
  "kernelspec": {
   "display_name": "Python 3 (ipykernel)",
   "language": "python",
   "name": "python3"
  },
  "language_info": {
   "codemirror_mode": {
    "name": "ipython",
    "version": 3
   },
   "file_extension": ".py",
   "mimetype": "text/x-python",
   "name": "python",
   "nbconvert_exporter": "python",
   "pygments_lexer": "ipython3",
   "version": "3.9.12"
  }
 },
 "nbformat": 4,
 "nbformat_minor": 5
}
