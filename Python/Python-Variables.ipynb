{
 "cells": [
  {
   "cell_type": "markdown",
   "id": "f5988485",
   "metadata": {},
   "source": [
    "# Variables"
   ]
  },
  {
   "cell_type": "markdown",
   "id": "7c1d7e30",
   "metadata": {},
   "source": [
    "Variables are containers for storing data values.A Python variable is a symbolic name that is a reference or pointer to an object. Once an object is assigned to a variable, you can refer to the object by that name. But the data itself is still contained within the object."
   ]
  },
  {
   "cell_type": "code",
   "execution_count": 9,
   "id": "73eeb71c",
   "metadata": {},
   "outputs": [
    {
     "data": {
      "text/plain": [
       "5"
      ]
     },
     "execution_count": 9,
     "metadata": {},
     "output_type": "execute_result"
    }
   ],
   "source": [
    "x=5\n",
    "x"
   ]
  },
  {
   "cell_type": "code",
   "execution_count": 3,
   "id": "38bb59cb",
   "metadata": {},
   "outputs": [
    {
     "data": {
      "text/plain": [
       "2"
      ]
     },
     "execution_count": 3,
     "metadata": {},
     "output_type": "execute_result"
    }
   ],
   "source": [
    "x=2\n",
    "x"
   ]
  },
  {
   "cell_type": "code",
   "execution_count": 10,
   "id": "5c64f0d1",
   "metadata": {},
   "outputs": [
    {
     "name": "stdout",
     "output_type": "stream",
     "text": [
      "x value 7\n"
     ]
    }
   ],
   "source": [
    "#1) Case sensitive\n",
    "x=7\n",
    "X=9\n",
    "print(\"x value\",x)"
   ]
  },
  {
   "cell_type": "code",
   "execution_count": 11,
   "id": "4675a296",
   "metadata": {},
   "outputs": [
    {
     "name": "stdout",
     "output_type": "stream",
     "text": [
      "X value 9\n"
     ]
    }
   ],
   "source": [
    "print(\"X value\",X)"
   ]
  },
  {
   "cell_type": "code",
   "execution_count": null,
   "id": "9dbd3149",
   "metadata": {},
   "outputs": [],
   "source": [
    "#2) Casting-data type"
   ]
  },
  {
   "cell_type": "code",
   "execution_count": 12,
   "id": "e7a54ad9",
   "metadata": {},
   "outputs": [
    {
     "data": {
      "text/plain": [
       "int"
      ]
     },
     "execution_count": 12,
     "metadata": {},
     "output_type": "execute_result"
    }
   ],
   "source": [
    "x=6\n",
    "type(x)"
   ]
  },
  {
   "cell_type": "code",
   "execution_count": 15,
   "id": "96b513db",
   "metadata": {},
   "outputs": [
    {
     "data": {
      "text/plain": [
       "float"
      ]
     },
     "execution_count": 15,
     "metadata": {},
     "output_type": "execute_result"
    }
   ],
   "source": [
    "x=float(6)\n",
    "type(x)"
   ]
  },
  {
   "cell_type": "code",
   "execution_count": 16,
   "id": "d82ac520",
   "metadata": {},
   "outputs": [
    {
     "data": {
      "text/plain": [
       "6.0"
      ]
     },
     "execution_count": 16,
     "metadata": {},
     "output_type": "execute_result"
    }
   ],
   "source": [
    "x\n",
    "#int,float,str"
   ]
  },
  {
   "cell_type": "code",
   "execution_count": 19,
   "id": "e14ae63b",
   "metadata": {},
   "outputs": [
    {
     "data": {
      "text/plain": [
       "'var'"
      ]
     },
     "execution_count": 19,
     "metadata": {},
     "output_type": "execute_result"
    }
   ],
   "source": [
    "#Single quote and double quote in str datatype is not sensitive\n",
    "x='var'\n",
    "x"
   ]
  },
  {
   "cell_type": "markdown",
   "id": "23816816",
   "metadata": {},
   "source": [
    "#Rules\n",
    "1)A variable name must start with a letter or the underscore character\n",
    "2)A variable name cannot start with a number\n",
    "3)A variable name can only contain alpha-numeric characters and underscores (A-z, 0-9, and _ )\n",
    "4)Variable names are case-sensitive (age, Age and AGE are three different variables)\n",
    "5)A variable name cannot be any of the Python keywords."
   ]
  },
  {
   "cell_type": "code",
   "execution_count": null,
   "id": "e8d36a38",
   "metadata": {},
   "outputs": [],
   "source": [
    "#dont use long character word"
   ]
  },
  {
   "cell_type": "code",
   "execution_count": 30,
   "id": "2d4e12ff",
   "metadata": {},
   "outputs": [
    {
     "data": {
      "text/plain": [
       "1"
      ]
     },
     "execution_count": 30,
     "metadata": {},
     "output_type": "execute_result"
    }
   ],
   "source": [
    "#assigning muliple variable at a time\n",
    "x,y,z=1,2,3\n",
    "x"
   ]
  }
 ],
 "metadata": {
  "kernelspec": {
   "display_name": "Python 3 (ipykernel)",
   "language": "python",
   "name": "python3"
  },
  "language_info": {
   "codemirror_mode": {
    "name": "ipython",
    "version": 3
   },
   "file_extension": ".py",
   "mimetype": "text/x-python",
   "name": "python",
   "nbconvert_exporter": "python",
   "pygments_lexer": "ipython3",
   "version": "3.9.12"
  }
 },
 "nbformat": 4,
 "nbformat_minor": 5
}
